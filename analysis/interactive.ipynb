{
 "cells": [
  {
   "cell_type": "code",
   "execution_count": null,
   "metadata": {
    "collapsed": true
   },
   "outputs": [],
   "source": [
    "import os\n",
    "\n",
    "import matplotlib\n",
    "import matplotlib.pyplot as plt\n",
    "import numpy as np\n",
    "\n",
    "import client as cp\n",
    "import middleware as mp\n",
    "\n",
    "# Matplot lib settings\n",
    "%matplotlib notebook\n",
    "matplotlib.rcParams.update({\n",
    "        'font.size': 11,\n",
    "        'font.family': 'sans-serif',\n",
    "        'xtick.labelsize': 10,\n",
    "        'ytick.labelsize': 10\n",
    "    })\n",
    "\n",
    "# Numpy settings\n",
    "np.set_printoptions(precision=3)\n",
    "np.set_printoptions(suppress=True)"
   ]
  },
  {
   "cell_type": "code",
   "execution_count": null,
   "metadata": {
    "collapsed": false,
    "scrolled": false
   },
   "outputs": [],
   "source": [
    "base_dir = ('/Users/ruifengxu/Development/asl-fall16-project/logs/' + \n",
    "            'write/server-{}-replication-{}-write-{}/')\n",
    "\n",
    "for num_servers in [3, 5, 7]:\n",
    "    for write_percent in [1, 5, 10]:\n",
    "        for replication_factor in [1, num_servers]:\n",
    "            config = {\n",
    "                'request_type': 'a',\n",
    "                'start': 11,\n",
    "                'duration': 40,\n",
    "                'ci_coefficient': 2.776,\n",
    "                'num_repetitions': 5,\n",
    "                'num_client_vms': 3,\n",
    "                'num_clients_per_vm': 110,\n",
    "                'thread_pool_size': 16,\n",
    "                'replication_factor': replication_factor,\n",
    "                'base_dir': base_dir.format(num_servers, replication_factor, write_percent)\n",
    "            }            \n",
    "\n",
    "            result = cp.aggregate_data(config)\n",
    "            N = config['num_client_vms'] * config['num_clients_per_vm']\n",
    "            T = result['tp_mean']\n",
    "            R = result['rt_mean']\n",
    "            R_hat = N / T  * 1000\n",
    "            if R < R_hat:\n",
    "                err = R - R_hat\n",
    "                err_percent = err / R\n",
    "            else:\n",
    "                err = R_hat - R\n",
    "                err_percent = err / R * 100\n",
    "            print('{:3}S {:3}W {:3}R: {:3} {:6.0f} {:6.3f} {:6.3f} {:6.3f} {:6.3f}'.format(\n",
    "                    num_servers, write_percent, replication_factor, N, T, R, R_hat, err, err_percent))\n",
    "            print()"
   ]
  },
  {
   "cell_type": "code",
   "execution_count": null,
   "metadata": {
    "collapsed": false
   },
   "outputs": [],
   "source": [
    "base_dir = ('/Users/ruifengxu/Development/asl-fall16-project/logs/' + \n",
    "            'replication/server-{}-replication-{}/')\n",
    "\n",
    "replication_factors = [\n",
    "    [1, 2, 3],\n",
    "    [1, 3, 5],\n",
    "    [1, 4, 7]\n",
    "]\n",
    "\n",
    "\n",
    "for i, num_servers in enumerate([3, 5, 7]):\n",
    "    for replication_factor in replication_factors[i]:\n",
    "        config = {\n",
    "            'request_type': 'a',\n",
    "            'start': 11,\n",
    "            'duration': 40,\n",
    "            'ci_coefficient': 2.776,\n",
    "            'num_repetitions': 5,\n",
    "            'num_client_vms': 3,\n",
    "            'num_clients_per_vm': 110,\n",
    "            'thread_pool_size': 16,\n",
    "            'replication_factor': replication_factor,\n",
    "            'base_dir': base_dir.format(num_servers, replication_factor, write_percent)\n",
    "        }            \n",
    "\n",
    "        result = cp.aggregate_data(config)\n",
    "        N = config['num_client_vms'] * config['num_clients_per_vm']\n",
    "        T = result['tp_mean']\n",
    "        R = result['rt_mean']\n",
    "        R_hat = N / T  * 1000\n",
    "        if R < R_hat:\n",
    "            err = R - R_hat\n",
    "            err_percent = err / R\n",
    "        else:\n",
    "            err = R_hat - R\n",
    "            err_percent = err / R\n",
    "        print('{:3}S {:3}R: {:3} {:6.0f} {:6.3f} {:6.3f} {:6.3f} {:6.3f}'.format(\n",
    "                num_servers, replication_factor, N, T, R, R_hat, err, err_percent))\n",
    "        print()"
   ]
  },
  {
   "cell_type": "code",
   "execution_count": null,
   "metadata": {
    "collapsed": true
   },
   "outputs": [],
   "source": []
  }
 ],
 "metadata": {
  "anaconda-cloud": {},
  "kernelspec": {
   "display_name": "Python [conda root]",
   "language": "python",
   "name": "conda-root-py"
  },
  "language_info": {
   "codemirror_mode": {
    "name": "ipython",
    "version": 3
   },
   "file_extension": ".py",
   "mimetype": "text/x-python",
   "name": "python",
   "nbconvert_exporter": "python",
   "pygments_lexer": "ipython3",
   "version": "3.5.2"
  }
 },
 "nbformat": 4,
 "nbformat_minor": 1
}
