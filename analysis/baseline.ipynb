{
 "cells": [
  {
   "cell_type": "code",
   "execution_count": null,
   "metadata": {
    "collapsed": true
   },
   "outputs": [],
   "source": [
    "import os\n",
    "\n",
    "import matplotlib\n",
    "import matplotlib.pyplot as plt\n",
    "import numpy as np\n",
    "\n",
    "import client as cp\n",
    "import middleware as mp\n",
    "\n",
    "# Matplot lib settings\n",
    "%matplotlib notebook\n",
    "matplotlib.rcParams.update({\n",
    "        'font.size': 11,\n",
    "        'font.family': 'sans-serif',\n",
    "        'xtick.labelsize': 10,\n",
    "        'ytick.labelsize': 10\n",
    "    })\n",
    "\n",
    "# Numpy settings\n",
    "np.set_printoptions(precision=3)\n",
    "np.set_printoptions(suppress=True)"
   ]
  },
  {
   "cell_type": "code",
   "execution_count": null,
   "metadata": {
    "collapsed": false
   },
   "outputs": [],
   "source": [
    "base_dir = ('/Users/ruifengxu/Development/asl-fall16-project/logs/baseline/' + \n",
    "            'client-{}')\n",
    "\n",
    "for num_clients in [1, 10, 20, 30, 40, 50, 60]:\n",
    "    config = {\n",
    "        'request_type': 'a',\n",
    "        'start': 6,\n",
    "        'duration': 20,\n",
    "        'ci_coefficient': 2.776,\n",
    "        'num_repetitions': 5,\n",
    "        'num_client_vms': 2,\n",
    "        'num_clients_per_vm': num_clients,\n",
    "        'thread_pool_size': None,\n",
    "        'replication_factor': None,\n",
    "        'base_dir': base_dir.format(num_clients)\n",
    "    }            \n",
    "\n",
    "    result = cp.aggregate_data(config)\n",
    "    N = config['num_client_vms'] * config['num_clients_per_vm']\n",
    "    T = result['tp_mean']\n",
    "    R = result['rt_mean']\n",
    "    R_hat = N / T  * 1000\n",
    "    if R < R_hat:\n",
    "        err = R - R_hat\n",
    "        err_percent = err / R\n",
    "    else:\n",
    "        err = R_hat - R\n",
    "        err_percent = err / R * 100\n",
    "    print('{:3}N {:6.0f} {:6.3f} {:6.3f} {:6.3f} {:6.3f}'.format(\n",
    "            N, T, R, R_hat, err, err_percent))\n",
    "    print()\n"
   ]
  }
 ],
 "metadata": {
  "kernelspec": {
   "display_name": "Python [conda root]",
   "language": "python",
   "name": "conda-root-py"
  },
  "language_info": {
   "codemirror_mode": {
    "name": "ipython",
    "version": 3
   },
   "file_extension": ".py",
   "mimetype": "text/x-python",
   "name": "python",
   "nbconvert_exporter": "python",
   "pygments_lexer": "ipython3",
   "version": "3.5.2"
  }
 },
 "nbformat": 4,
 "nbformat_minor": 1
}
