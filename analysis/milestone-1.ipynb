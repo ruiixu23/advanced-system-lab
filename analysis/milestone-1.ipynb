{
 "cells": [
  {
   "cell_type": "code",
   "execution_count": null,
   "metadata": {
    "collapsed": true
   },
   "outputs": [],
   "source": [
    "import pprint \n",
    "import client\n",
    "import middleware\n",
    "\n",
    "pp = pprint.PrettyPrinter(indent=2)"
   ]
  },
  {
   "cell_type": "code",
   "execution_count": null,
   "metadata": {
    "collapsed": true
   },
   "outputs": [],
   "source": [
    "data = client.parse_client_script('../logs/maximum-throughput/thread-10-client-100/repetition-1-client-1.log')\n",
    "pp.pprint(data)"
   ]
  },
  {
   "cell_type": "code",
   "execution_count": null,
   "metadata": {
    "collapsed": true
   },
   "outputs": [],
   "source": [
    "import csv\n",
    "import operator\n",
    "import os\n",
    "\n",
    "import matplotlib\n",
    "\n",
    "import matplotlib.pyplot as plt\n",
    "import numpy as np\n",
    "\n",
    "# Enable inline plotting\n",
    "%matplotlib inline\n",
    "matplotlib.rc('font', family='sans-serif') \n",
    "matplotlib.rc('font', serif='Helvetica Neue') \n",
    "matplotlib.rc('text', usetex='false') \n",
    "matplotlib.rcParams.update({'font.size': 11})"
   ]
  },
  {
   "cell_type": "code",
   "execution_count": null,
   "metadata": {
    "collapsed": true
   },
   "outputs": [],
   "source": [
    "base_dir = '/Users/ruifengxu/Development/asl-fall16-project/log/'\n",
    "trace_filename = os.path.join(base_dir, 'trace.log');\n",
    "\n",
    "# Thread id (0)\n",
    "# Log level (1)\n",
    "# Completion time (2)\n",
    "# Command (3)\n",
    "# Transaction id (4)\n",
    "# Server id (5)\n",
    "# Success flag (6)\n",
    "# Cache miss flag (7)\n",
    "# Time to read request (8)\n",
    "# Time in queue (9)\n",
    "# Time to forward request (10)\n",
    "# Time to receive response (11)\n",
    "# Time to send response (12)\n",
    "#\n",
    "# Example\n",
    "# 33,I,1477020519213,g,78137700,2,s,h,2900,6703800,8500,1904400,6100"
   ]
  },
  {
   "cell_type": "code",
   "execution_count": null,
   "metadata": {
    "collapsed": true
   },
   "outputs": [],
   "source": [
    "middleware.exam_logs(trace_filename, level='D', output=True)"
   ]
  },
  {
   "cell_type": "code",
   "execution_count": null,
   "metadata": {
    "collapsed": true
   },
   "outputs": [],
   "source": [
    "middleware.exam_logs(trace_filename, level='E', output=True)"
   ]
  },
  {
   "cell_type": "code",
   "execution_count": null,
   "metadata": {
    "collapsed": true
   },
   "outputs": [],
   "source": [
    "traces = middleware.load_trace(trace_filename)"
   ]
  },
  {
   "cell_type": "code",
   "execution_count": null,
   "metadata": {
    "collapsed": true
   },
   "outputs": [],
   "source": [
    "def server_load_distribution(traces):\n",
    "  dist = {}  \n",
    "  for row in traces:\n",
    "    if row[5] not in dist:\n",
    "      dist[row[5]] = 1\n",
    "    else:\n",
    "      dist[row[5]] += 1\n",
    "  return dist"
   ]
  },
  {
   "cell_type": "code",
   "execution_count": null,
   "metadata": {
    "collapsed": true
   },
   "outputs": [],
   "source": [
    "load_dist = server_load_distribution(traces)\n",
    "print(load_dist)"
   ]
  },
  {
   "cell_type": "code",
   "execution_count": null,
   "metadata": {
    "collapsed": true
   },
   "outputs": [],
   "source": [
    "def plot_load_dist(load_dist):\n",
    "  fig = plt.figure( figsize=(6,4))\n",
    "  plt.bar(range(len(load_dist)), \n",
    "          load_dist.values(), \n",
    "          align='center',\n",
    "          alpha=0.5,\n",
    "          color='blue')\n",
    "  plt.xticks(range(len(load_dist)), load_dist.keys())\n",
    "  plt.xlabel(\"Server ID\")\n",
    "  plt.ylabel(\"Number of Requests\")\n",
    "  plt.tight_layout()\n",
    "  plt.show()\n",
    "  fig.savefig('load-dist.png', dpi=300)"
   ]
  },
  {
   "cell_type": "code",
   "execution_count": null,
   "metadata": {
    "collapsed": true
   },
   "outputs": [],
   "source": [
    "plot_load_dist(load_dist)"
   ]
  },
  {
   "cell_type": "code",
   "execution_count": null,
   "metadata": {
    "collapsed": true
   },
   "outputs": [],
   "source": [
    "def calculate_throughput(traces, interval=1, sample_frequency=100):\n",
    "  throughput = []\n",
    "  current_time = None\n",
    "  next_time = None \n",
    "  count = 0\n",
    "  for row in traces:\n",
    "    if not row[6]:\n",
    "      continue\n",
    "      \n",
    "    if current_time is None:\n",
    "      current_time = row[2]\n",
    "      next_time = row[2] + interval\n",
    "    \n",
    "    if row[2] < next_time:\n",
    "      count += 1\n",
    "    else:\n",
    "      throughput.append(count * sample_frequency)\n",
    "      next_time += interval\n",
    "      count = 1\n",
    "\n",
    "  return throughput"
   ]
  },
  {
   "cell_type": "code",
   "execution_count": null,
   "metadata": {
    "collapsed": true
   },
   "outputs": [],
   "source": [
    "throughput = calculate_throughput(traces, interval=1, sample_frequency=100)"
   ]
  },
  {
   "cell_type": "code",
   "execution_count": null,
   "metadata": {
    "collapsed": true
   },
   "outputs": [],
   "source": [
    "def plot_throughput(throughput, start, end):\n",
    "  fig = plt.figure( figsize=(16,6))\n",
    "  x = np.arange(0, end - start, 1)\n",
    "  lines = plt.plot(x, throughput[start: end], 'blue')\n",
    "  for line in lines:\n",
    "    line.set_alpha(0.6)\n",
    "    line.set_linewidth(0.5)\n",
    "  plt.ylabel('Throughput (requests/s)')\n",
    "  plt.xlabel('Time (s)')\n",
    "  plt.xlim([0, 60])\n",
    "  plt.tight_layout()\n",
    "  plt.show()  \n",
    "  fig.savefig('throughput.png', dpi=300)"
   ]
  },
  {
   "cell_type": "code",
   "execution_count": null,
   "metadata": {
    "collapsed": true
   },
   "outputs": [],
   "source": [
    "plot_throughput(throughput, 0, 60)"
   ]
  },
  {
   "cell_type": "code",
   "execution_count": null,
   "metadata": {
    "collapsed": true
   },
   "outputs": [],
   "source": [
    "def calculate_response_time(traces, interval=1):\n",
    "  response_time_avg = []\n",
    "  response_time_std = []\n",
    "  current_time = None\n",
    "  next_time = None \n",
    "  entries = []\n",
    "  for row in traces:\n",
    "    if not row[2]:\n",
    "      continue\n",
    "      \n",
    "    if current_time is None:\n",
    "      current_time = row[2]\n",
    "      next_time = row[2] + interval\n",
    "    \n",
    "    time = (row[8] + row[9] + row[10] + row[11] + row[12]) / 1000000\n",
    "    \n",
    "    if row[2] < next_time:      \n",
    "      entries.append(time)\n",
    "    else:\n",
    "      response_time_avg.append(np.mean(entries))\n",
    "      response_time_std.append(np.std(entries))\n",
    "      next_time += interval\n",
    "      entries = [time]\n",
    "\n",
    "  return response_time_avg, response_time_std"
   ]
  },
  {
   "cell_type": "code",
   "execution_count": null,
   "metadata": {
    "collapsed": true
   },
   "outputs": [],
   "source": [
    "response_time_avg, response_time_std = calculate_response_time(traces, interval=1)"
   ]
  },
  {
   "cell_type": "code",
   "execution_count": null,
   "metadata": {
    "collapsed": true
   },
   "outputs": [],
   "source": [
    "def plot_response_time(response_time_avg, response_time_std, start, end):\n",
    "  fig = plt.figure( figsize=(16,6))\n",
    "  x = np.arange(0, end - start, 1)\n",
    "  y = response_time_avg[start: end]\n",
    "  std = response_time_std[start: end]\n",
    "  lines = plt.plot(x, y, 'blue')\n",
    "  for line in lines:\n",
    "    line.set_alpha(0.6)\n",
    "    line.set_linewidth(0.5)\n",
    "  plt.fill_between(x, np.subtract(y, std), np.add(y, std), \n",
    "                     alpha=0.20, edgecolor='#FFFFFF', facecolor='blue')\n",
    "  plt.ylabel('Response time (ms)')\n",
    "  plt.xlabel('Time (s)')\n",
    "  plt.xlim([0, 60])\n",
    "  plt.ylim([0, 10])\n",
    "  plt.tight_layout()\n",
    "  plt.show()  \n",
    "  fig.savefig('response-time.png', dpi=300)"
   ]
  },
  {
   "cell_type": "code",
   "execution_count": null,
   "metadata": {
    "collapsed": true
   },
   "outputs": [],
   "source": [
    "plot_response_time(response_time_avg, response_time_std, 0, 60)"
   ]
  },
  {
   "cell_type": "markdown",
   "metadata": {},
   "source": []
  },
  {
   "cell_type": "code",
   "execution_count": null,
   "metadata": {
    "collapsed": true
   },
   "outputs": [],
   "source": [
    "c1_1 = [(93867, 318, 233.64, 3116), (93684, 319, 228.91, 3110), (80422, 373, 294.81, 2659), (91435, 328, 235.47, 3023), (85110, 351, 257.81, 2825)]\n",
    "c1_2 = [(86869, 344, 276.42, 2882), (79612, 375, 307.38, 2643), (81065, 370, 324.32, 2681), (85187, 351, 281.39, 2828), (83873, 356, 288.30, 2785)]\n",
    "\n",
    "c10_1 = [(309200, 970, 1728.85, 10267), (308044, 975, 1739.90, 10216), (327009, 922, 1606.57, 10815), (327571, 915, 1625.00, 10875), (306296, 979, 1700.85, 10169)]\n",
    "c10_2 = [(326268, 924, 1627.50, 10791), (329648, 914, 1625.37, 10907), (300725, 999, 1693.42, 9984), (306617, 983, 1614.64, 10131), (324459, 925, 1523.00, 10773)]\n",
    "\n",
    "c20_1 = [(423852, 1424, 2282.24, 14012), (421330, 1427, 2408.44, 13987), (426850, 1414, 2258.86, 14109), (426299, 1409, 2451.93, 14154), (404643, 1485, 4859.02, 13433)]\n",
    "c20_2 = [(407422, 1481, 2268.31, 13468), (403971, 1493, 2395.83, 13365), (406502, 1478, 2246.70, 13495), (413211, 1454, 2367.90, 13718), (413473, 1454, 4035.05, 13727)]\n",
    "\n",
    "c30_1 = [(471198, 1913, 3040.33, 15644), (434542, 2076, 4973.88, 14426), (468532, 1925, 2999.80, 15554), (463903, 1952, 2889.32, 15326), (456173, 1979, 3106.01, 15129)]\n",
    "c30_2 = [(428842, 2102, 3129.12, 14238), (470615, 1919, 4841.86, 15604), (449738, 2005, 3027.51, 14933), (436280, 2070, 2911.47,14464), (452325, 1997, 3057.47, 14995)]\n",
    "\n",
    "c40_1 = [(506694, 2375, 3224.26, 16819),(458537, 2624, 5361.23, 15222), (506187, 2376, 3025.83, 16806), (473853, 2538, 3155.20, 15733), (487636, 2468, 7195.72, 16191)]\n",
    "c40_2 = [(471398, 2551, 3257.70 ,15651), (491675, 2446, 5169.08, 16324), (459069, 2620, 3093.55, 15241), (505010, 2382, 3000.09, 16765), (482272, 2497, 7180.68, 15989)]\n",
    "\n",
    "c50_1 = [(493988, 3047, 6537.80, 16396), (494317, 3041, 4935.96, 16411), (494445, 3041, 10618.62, 16412), (502937, 3005, 5516.11, 16624), (492702, 3052, 4570.71, 16358)]\n",
    "c50_2 = [(485838, 3098, 6675.73, 16117), (506071, 2981, 4825.08, 16740), (463899, 3240, 10686.13, 15399), (490001, 3069, 5604.92, 16267), (516135, 2921, 3585.32, 17094)]"
   ]
  },
  {
   "cell_type": "code",
   "execution_count": null,
   "metadata": {
    "collapsed": true
   },
   "outputs": [],
   "source": [
    "def baseline(a, b):\n",
    "  tp = 0\n",
    "  rt = 0\n",
    "  max_std = 0\n",
    "  for i in range(0, 5):\n",
    "    tp += a[i][3] \n",
    "    tp += b[i][3] \n",
    "    rt += a[i][1]\n",
    "    rt += b[i][1]\n",
    "    if max_std < a[i][2]:\n",
    "      max_std = a[i][2]\n",
    "    if max_std < b[i][2]:\n",
    "      max_std = b[i][2]\n",
    "  \n",
    "  return tp / 5, rt / 10000, max_std / 1000"
   ]
  },
  {
   "cell_type": "code",
   "execution_count": null,
   "metadata": {
    "collapsed": true
   },
   "outputs": [],
   "source": [
    "tp = [\n",
    "  baseline(c1_1, c1_2)[0], \n",
    "  baseline(c10_1, c10_2)[0], \n",
    "  baseline(c20_1, c20_2)[0], \n",
    "  baseline(c30_1, c30_2)[0],\n",
    "  baseline(c40_1, c40_2)[0],\n",
    "  baseline(c50_1, c50_2)[0],\n",
    "]\n",
    "rt = [\n",
    "  baseline(c1_1, c1_2)[1], \n",
    "  baseline(c10_1, c10_2)[1], \n",
    "  baseline(c20_1, c20_2)[1], \n",
    "  baseline(c30_1, c30_2)[1],\n",
    "  baseline(c40_1, c40_2)[1],\n",
    "  baseline(c50_1, c50_2)[1],\n",
    "]\n",
    "std = [\n",
    "  baseline(c1_1, c1_2)[2], \n",
    "  baseline(c10_1, c10_2)[2], \n",
    "  baseline(c20_1, c20_2)[2], \n",
    "  baseline(c30_1, c30_2)[2],\n",
    "  baseline(c40_1, c40_2)[2],\n",
    "  baseline(c50_1, c50_2)[2],\n",
    "]"
   ]
  },
  {
   "cell_type": "code",
   "execution_count": null,
   "metadata": {
    "collapsed": true
   },
   "outputs": [],
   "source": [
    "fig = plt.figure(figsize=(16,6))\n",
    "x = np.arange(0, 110, 20)\n",
    "lines = plt.plot(x, tp, 'blue')\n",
    "for line in lines:\n",
    "    line.set_alpha(0.6)\n",
    "    line.set_linewidth(0.5)\n",
    "plt.ylabel('Aggregated throughput (requests/s)')\n",
    "plt.xlabel('Number of clients')\n",
    "plt.tight_layout()\n",
    "plt.xlim([1, 110])\n",
    "fig.savefig('baseline-throughput.png', dpi=300)"
   ]
  },
  {
   "cell_type": "code",
   "execution_count": null,
   "metadata": {
    "collapsed": true
   },
   "outputs": [],
   "source": [
    "fig = plt.figure(figsize=(16,6))\n",
    "x = np.arange(0, 110, 20)\n",
    "plt.errorbar(x, rt, yerr=std)\n",
    "plt.ylabel('Average response time (ms)')\n",
    "plt.xlabel('Number of clients')\n",
    "plt.tight_layout()\n",
    "plt.xlim([1, 110])\n",
    "plt.ylim([0, 15])\n",
    "plt.show()\n",
    "fig.savefig('baseline-response-time.png', dpi=300)"
   ]
  },
  {
   "cell_type": "code",
   "execution_count": null,
   "metadata": {
    "collapsed": true
   },
   "outputs": [],
   "source": []
  }
 ],
 "metadata": {
  "anaconda-cloud": {},
  "kernelspec": {
   "display_name": "Python 3",
   "language": "python",
   "name": "python3"
  },
  "language_info": {
   "codemirror_mode": {
    "name": "ipython",
    "version": 3
   },
   "file_extension": ".py",
   "mimetype": "text/x-python",
   "name": "python",
   "nbconvert_exporter": "python",
   "pygments_lexer": "ipython3",
   "version": "3.6.1"
  }
 },
 "nbformat": 4,
 "nbformat_minor": 1
}
